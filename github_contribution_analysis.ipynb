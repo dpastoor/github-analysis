{
 "cells": [
  {
   "cell_type": "code",
   "execution_count": 31,
   "metadata": {
    "collapsed": true
   },
   "outputs": [],
   "source": [
    "import ujson\n",
    "import pandas as pd\n",
    "import pprint\n",
    "import os"
   ]
  },
  {
   "cell_type": "code",
   "execution_count": 72,
   "metadata": {
    "collapsed": false
   },
   "outputs": [],
   "source": [
    "def get_files_to_process(path): \n",
    "    to_process = []\n",
    "    for root, dirs, files in os.walk(path):\n",
    "        for file in files:\n",
    "            to_process.append(os.path.join(root, file))\n",
    "    return to_process\n"
   ]
  },
  {
   "cell_type": "code",
   "execution_count": 76,
   "metadata": {
    "collapsed": false
   },
   "outputs": [],
   "source": [
    "files_startheworld = get_files_to_process('user_data/startheworld/')\n",
    "files_4148 = get_files_to_process('user_data/4148/')"
   ]
  },
  {
   "cell_type": "code",
   "execution_count": 54,
   "metadata": {
    "collapsed": false
   },
   "outputs": [],
   "source": [
    "frames = []\n",
    "# ignore the first 5 that are the globbed downloads\n",
    "for file in to_process[5::]:\n",
    "    with open(file) as f:\n",
    "        for line in f:\n",
    "            json_data = ujson.loads(line)\n",
    "            frames.append(pd.DataFrame.from_dict(json_data['starredRepos']))\n",
    "        f.close()\n"
   ]
  },
  {
   "cell_type": "code",
   "execution_count": 55,
   "metadata": {
    "collapsed": false
   },
   "outputs": [],
   "source": [
    " for file in to_process[0:5]:\n",
    "    with open(file) as f:\n",
    "        for line in f:\n",
    "            json_data = ujson.loads(line)\n",
    "            frames.append(pd.DataFrame.from_dict(json_data[\"starredRepos\"]))\n",
    "        f.close()\n"
   ]
  },
  {
   "cell_type": "code",
   "execution_count": 77,
   "metadata": {
    "collapsed": true
   },
   "outputs": [],
   "source": [
    "for file in files_4148:\n",
    "    with open(file) as f:\n",
    "        for line in f:\n",
    "            json_data = ujson.loads(line)\n",
    "            frames.append(pd.DataFrame.from_dict(json_data[\"starredRepos\"]))\n",
    "        f.close()\n"
   ]
  },
  {
   "cell_type": "code",
   "execution_count": 78,
   "metadata": {
    "collapsed": false
   },
   "outputs": [],
   "source": [
    "startheworld_df = pd.concat(frames)"
   ]
  },
  {
   "cell_type": "code",
   "execution_count": 81,
   "metadata": {
    "collapsed": false
   },
   "outputs": [
    {
     "name": "stdout",
     "output_type": "stream",
     "text": [
      "total lines: 205593\n"
     ]
    },
    {
     "data": {
      "text/html": [
       "<div>\n",
       "<table border=\"1\" class=\"dataframe\">\n",
       "  <thead>\n",
       "    <tr style=\"text-align: right;\">\n",
       "      <th></th>\n",
       "      <th>created_at</th>\n",
       "      <th>fork</th>\n",
       "      <th>forks</th>\n",
       "      <th>forks_count</th>\n",
       "      <th>full_name</th>\n",
       "      <th>language</th>\n",
       "      <th>name</th>\n",
       "      <th>open_issues</th>\n",
       "      <th>open_issues_count</th>\n",
       "      <th>owner</th>\n",
       "      <th>pushed_at</th>\n",
       "      <th>size</th>\n",
       "      <th>stargazers_count</th>\n",
       "      <th>starred_at</th>\n",
       "      <th>updated_at</th>\n",
       "      <th>watchers</th>\n",
       "      <th>watchers_count</th>\n",
       "    </tr>\n",
       "  </thead>\n",
       "  <tbody>\n",
       "    <tr>\n",
       "      <th>0</th>\n",
       "      <td>2015-02-27T18:56:28Z</td>\n",
       "      <td>False</td>\n",
       "      <td>53</td>\n",
       "      <td>53</td>\n",
       "      <td>fisshy/react-scroll</td>\n",
       "      <td>JavaScript</td>\n",
       "      <td>react-scroll</td>\n",
       "      <td>12</td>\n",
       "      <td>12</td>\n",
       "      <td>fisshy</td>\n",
       "      <td>2016-02-16T07:23:19Z</td>\n",
       "      <td>117</td>\n",
       "      <td>137</td>\n",
       "      <td>2016-02-16T04:04:32Z</td>\n",
       "      <td>2016-02-16T09:44:26Z</td>\n",
       "      <td>137</td>\n",
       "      <td>137</td>\n",
       "    </tr>\n",
       "    <tr>\n",
       "      <th>1</th>\n",
       "      <td>2014-10-29T00:54:54Z</td>\n",
       "      <td>False</td>\n",
       "      <td>15</td>\n",
       "      <td>15</td>\n",
       "      <td>firebase/firebase-queue</td>\n",
       "      <td>JavaScript</td>\n",
       "      <td>firebase-queue</td>\n",
       "      <td>10</td>\n",
       "      <td>10</td>\n",
       "      <td>firebase</td>\n",
       "      <td>2016-01-13T00:56:52Z</td>\n",
       "      <td>204</td>\n",
       "      <td>182</td>\n",
       "      <td>2016-02-16T04:04:31Z</td>\n",
       "      <td>2016-02-16T04:04:31Z</td>\n",
       "      <td>182</td>\n",
       "      <td>182</td>\n",
       "    </tr>\n",
       "    <tr>\n",
       "      <th>2</th>\n",
       "      <td>2015-08-06T12:26:57Z</td>\n",
       "      <td>False</td>\n",
       "      <td>22</td>\n",
       "      <td>22</td>\n",
       "      <td>EverythingMe/easy-content-providers</td>\n",
       "      <td>Java</td>\n",
       "      <td>easy-content-providers</td>\n",
       "      <td>1</td>\n",
       "      <td>1</td>\n",
       "      <td>EverythingMe</td>\n",
       "      <td>2015-08-21T20:17:03Z</td>\n",
       "      <td>3237</td>\n",
       "      <td>102</td>\n",
       "      <td>2016-02-16T04:04:31Z</td>\n",
       "      <td>2016-02-16T04:04:31Z</td>\n",
       "      <td>102</td>\n",
       "      <td>102</td>\n",
       "    </tr>\n",
       "    <tr>\n",
       "      <th>3</th>\n",
       "      <td>2013-12-24T02:40:05Z</td>\n",
       "      <td>False</td>\n",
       "      <td>148</td>\n",
       "      <td>148</td>\n",
       "      <td>ethereum/pyethereum</td>\n",
       "      <td>Python</td>\n",
       "      <td>pyethereum</td>\n",
       "      <td>53</td>\n",
       "      <td>53</td>\n",
       "      <td>ethereum</td>\n",
       "      <td>2016-02-15T23:38:15Z</td>\n",
       "      <td>5543</td>\n",
       "      <td>420</td>\n",
       "      <td>2016-02-16T04:04:30Z</td>\n",
       "      <td>2016-02-16T11:18:23Z</td>\n",
       "      <td>420</td>\n",
       "      <td>420</td>\n",
       "    </tr>\n",
       "    <tr>\n",
       "      <th>4</th>\n",
       "      <td>2013-06-21T19:44:59Z</td>\n",
       "      <td>False</td>\n",
       "      <td>30</td>\n",
       "      <td>30</td>\n",
       "      <td>erikrose/peep</td>\n",
       "      <td>Python</td>\n",
       "      <td>peep</td>\n",
       "      <td>19</td>\n",
       "      <td>19</td>\n",
       "      <td>erikrose</td>\n",
       "      <td>2016-02-12T11:56:01Z</td>\n",
       "      <td>383</td>\n",
       "      <td>230</td>\n",
       "      <td>2016-02-16T04:04:29Z</td>\n",
       "      <td>2016-02-16T10:59:07Z</td>\n",
       "      <td>230</td>\n",
       "      <td>230</td>\n",
       "    </tr>\n",
       "  </tbody>\n",
       "</table>\n",
       "</div>"
      ],
      "text/plain": [
       "             created_at   fork  forks  forks_count  \\\n",
       "0  2015-02-27T18:56:28Z  False     53           53   \n",
       "1  2014-10-29T00:54:54Z  False     15           15   \n",
       "2  2015-08-06T12:26:57Z  False     22           22   \n",
       "3  2013-12-24T02:40:05Z  False    148          148   \n",
       "4  2013-06-21T19:44:59Z  False     30           30   \n",
       "\n",
       "                             full_name    language                    name  \\\n",
       "0                  fisshy/react-scroll  JavaScript            react-scroll   \n",
       "1              firebase/firebase-queue  JavaScript          firebase-queue   \n",
       "2  EverythingMe/easy-content-providers        Java  easy-content-providers   \n",
       "3                  ethereum/pyethereum      Python              pyethereum   \n",
       "4                        erikrose/peep      Python                    peep   \n",
       "\n",
       "   open_issues  open_issues_count         owner             pushed_at  size  \\\n",
       "0           12                 12        fisshy  2016-02-16T07:23:19Z   117   \n",
       "1           10                 10      firebase  2016-01-13T00:56:52Z   204   \n",
       "2            1                  1  EverythingMe  2015-08-21T20:17:03Z  3237   \n",
       "3           53                 53      ethereum  2016-02-15T23:38:15Z  5543   \n",
       "4           19                 19      erikrose  2016-02-12T11:56:01Z   383   \n",
       "\n",
       "   stargazers_count            starred_at            updated_at  watchers  \\\n",
       "0               137  2016-02-16T04:04:32Z  2016-02-16T09:44:26Z       137   \n",
       "1               182  2016-02-16T04:04:31Z  2016-02-16T04:04:31Z       182   \n",
       "2               102  2016-02-16T04:04:31Z  2016-02-16T04:04:31Z       102   \n",
       "3               420  2016-02-16T04:04:30Z  2016-02-16T11:18:23Z       420   \n",
       "4               230  2016-02-16T04:04:29Z  2016-02-16T10:59:07Z       230   \n",
       "\n",
       "   watchers_count  \n",
       "0             137  \n",
       "1             182  \n",
       "2             102  \n",
       "3             420  \n",
       "4             230  "
      ]
     },
     "execution_count": 81,
     "metadata": {},
     "output_type": "execute_result"
    }
   ],
   "source": [
    "print('total lines: ' + str(len(startheworld_df)))\n",
    "startheworld_df.head()"
   ]
  },
  {
   "cell_type": "code",
   "execution_count": 106,
   "metadata": {
    "collapsed": false
   },
   "outputs": [
    {
     "data": {
      "text/html": [
       "<div>\n",
       "<table border=\"1\" class=\"dataframe\">\n",
       "  <thead>\n",
       "    <tr style=\"text-align: right;\">\n",
       "      <th></th>\n",
       "      <th>created_at</th>\n",
       "      <th>forks_count</th>\n",
       "      <th>full_name</th>\n",
       "      <th>language</th>\n",
       "      <th>name</th>\n",
       "      <th>open_issues_count</th>\n",
       "      <th>owner</th>\n",
       "      <th>pushed_at</th>\n",
       "      <th>size</th>\n",
       "      <th>stargazers_count</th>\n",
       "      <th>updated_at</th>\n",
       "      <th>watchers_count</th>\n",
       "    </tr>\n",
       "  </thead>\n",
       "  <tbody>\n",
       "    <tr>\n",
       "      <th>0</th>\n",
       "      <td>2015-02-27T18:56:28Z</td>\n",
       "      <td>53</td>\n",
       "      <td>fisshy/react-scroll</td>\n",
       "      <td>JavaScript</td>\n",
       "      <td>react-scroll</td>\n",
       "      <td>12</td>\n",
       "      <td>fisshy</td>\n",
       "      <td>2016-02-16T07:23:19Z</td>\n",
       "      <td>117</td>\n",
       "      <td>137</td>\n",
       "      <td>2016-02-16T09:44:26Z</td>\n",
       "      <td>137</td>\n",
       "    </tr>\n",
       "    <tr>\n",
       "      <th>1</th>\n",
       "      <td>2014-10-29T00:54:54Z</td>\n",
       "      <td>15</td>\n",
       "      <td>firebase/firebase-queue</td>\n",
       "      <td>JavaScript</td>\n",
       "      <td>firebase-queue</td>\n",
       "      <td>10</td>\n",
       "      <td>firebase</td>\n",
       "      <td>2016-01-13T00:56:52Z</td>\n",
       "      <td>204</td>\n",
       "      <td>182</td>\n",
       "      <td>2016-02-16T04:04:31Z</td>\n",
       "      <td>182</td>\n",
       "    </tr>\n",
       "    <tr>\n",
       "      <th>2</th>\n",
       "      <td>2015-08-06T12:26:57Z</td>\n",
       "      <td>22</td>\n",
       "      <td>EverythingMe/easy-content-providers</td>\n",
       "      <td>Java</td>\n",
       "      <td>easy-content-providers</td>\n",
       "      <td>1</td>\n",
       "      <td>EverythingMe</td>\n",
       "      <td>2015-08-21T20:17:03Z</td>\n",
       "      <td>3237</td>\n",
       "      <td>102</td>\n",
       "      <td>2016-02-16T04:04:31Z</td>\n",
       "      <td>102</td>\n",
       "    </tr>\n",
       "    <tr>\n",
       "      <th>3</th>\n",
       "      <td>2013-12-24T02:40:05Z</td>\n",
       "      <td>148</td>\n",
       "      <td>ethereum/pyethereum</td>\n",
       "      <td>Python</td>\n",
       "      <td>pyethereum</td>\n",
       "      <td>53</td>\n",
       "      <td>ethereum</td>\n",
       "      <td>2016-02-15T23:38:15Z</td>\n",
       "      <td>5543</td>\n",
       "      <td>420</td>\n",
       "      <td>2016-02-16T11:18:23Z</td>\n",
       "      <td>420</td>\n",
       "    </tr>\n",
       "    <tr>\n",
       "      <th>4</th>\n",
       "      <td>2013-06-21T19:44:59Z</td>\n",
       "      <td>30</td>\n",
       "      <td>erikrose/peep</td>\n",
       "      <td>Python</td>\n",
       "      <td>peep</td>\n",
       "      <td>19</td>\n",
       "      <td>erikrose</td>\n",
       "      <td>2016-02-12T11:56:01Z</td>\n",
       "      <td>383</td>\n",
       "      <td>230</td>\n",
       "      <td>2016-02-16T10:59:07Z</td>\n",
       "      <td>230</td>\n",
       "    </tr>\n",
       "  </tbody>\n",
       "</table>\n",
       "</div>"
      ],
      "text/plain": [
       "             created_at  forks_count                            full_name  \\\n",
       "0  2015-02-27T18:56:28Z           53                  fisshy/react-scroll   \n",
       "1  2014-10-29T00:54:54Z           15              firebase/firebase-queue   \n",
       "2  2015-08-06T12:26:57Z           22  EverythingMe/easy-content-providers   \n",
       "3  2013-12-24T02:40:05Z          148                  ethereum/pyethereum   \n",
       "4  2013-06-21T19:44:59Z           30                        erikrose/peep   \n",
       "\n",
       "     language                    name  open_issues_count         owner  \\\n",
       "0  JavaScript            react-scroll                 12        fisshy   \n",
       "1  JavaScript          firebase-queue                 10      firebase   \n",
       "2        Java  easy-content-providers                  1  EverythingMe   \n",
       "3      Python              pyethereum                 53      ethereum   \n",
       "4      Python                    peep                 19      erikrose   \n",
       "\n",
       "              pushed_at  size  stargazers_count            updated_at  \\\n",
       "0  2016-02-16T07:23:19Z   117               137  2016-02-16T09:44:26Z   \n",
       "1  2016-01-13T00:56:52Z   204               182  2016-02-16T04:04:31Z   \n",
       "2  2015-08-21T20:17:03Z  3237               102  2016-02-16T04:04:31Z   \n",
       "3  2016-02-15T23:38:15Z  5543               420  2016-02-16T11:18:23Z   \n",
       "4  2016-02-12T11:56:01Z   383               230  2016-02-16T10:59:07Z   \n",
       "\n",
       "   watchers_count  \n",
       "0             137  \n",
       "1             182  \n",
       "2             102  \n",
       "3             420  \n",
       "4             230  "
      ]
     },
     "execution_count": 106,
     "metadata": {},
     "output_type": "execute_result"
    }
   ],
   "source": [
    "analysis_df = startheworld_df[['created_at', \n",
    "                 'forks_count', \n",
    "                 'full_name', \n",
    "                 'language', \n",
    "                 'name', \n",
    "                 'open_issues_count', \n",
    "                 'owner',\n",
    "                 'pushed_at',\n",
    "                 'size',\n",
    "                 'stargazers_count',\n",
    "                 'updated_at',\n",
    "                 'watchers_count'\n",
    "                ]]\n",
    "analysis_df.head()"
   ]
  },
  {
   "cell_type": "code",
   "execution_count": 110,
   "metadata": {
    "collapsed": false
   },
   "outputs": [
    {
     "name": "stdout",
     "output_type": "stream",
     "text": [
      "<class 'pandas.core.frame.DataFrame'>\n",
      "Int64Index: 205593 entries, 0 to 99\n",
      "Data columns (total 12 columns):\n",
      "created_at           205593 non-null datetime64[ns]\n",
      "forks_count          205593 non-null int64\n",
      "full_name            205593 non-null object\n",
      "language             189278 non-null object\n",
      "name                 205593 non-null object\n",
      "open_issues_count    205593 non-null int64\n",
      "owner                205593 non-null object\n",
      "pushed_at            205411 non-null object\n",
      "size                 205593 non-null int64\n",
      "stargazers_count     205593 non-null int64\n",
      "updated_at           205593 non-null object\n",
      "watchers_count       205593 non-null int64\n",
      "dtypes: datetime64[ns](1), int64(5), object(6)\n",
      "memory usage: 20.4+ MB\n",
      "None\n",
      "created_at           1644744\n",
      "forks_count          1644744\n",
      "full_name            1644744\n",
      "language             1644744\n",
      "name                 1644744\n",
      "open_issues_count    1644744\n",
      "owner                1644744\n",
      "pushed_at            1644744\n",
      "size                 1644744\n",
      "stargazers_count     1644744\n",
      "updated_at           1644744\n",
      "watchers_count       1644744\n",
      "dtype: int64\n"
     ]
    }
   ],
   "source": [
    "print(analysis_df.info())\n",
    "print(analysis_df.memory_usage())"
   ]
  },
  {
   "cell_type": "code",
   "execution_count": 111,
   "metadata": {
    "collapsed": false
   },
   "outputs": [
    {
     "name": "stderr",
     "output_type": "stream",
     "text": [
      "/Users/devin/anaconda/envs/py3/lib/python3.4/site-packages/ipykernel/__main__.py:2: SettingWithCopyWarning: \n",
      "A value is trying to be set on a copy of a slice from a DataFrame.\n",
      "Try using .loc[row_indexer,col_indexer] = value instead\n",
      "\n",
      "See the caveats in the documentation: http://pandas.pydata.org/pandas-docs/stable/indexing.html#indexing-view-versus-copy\n",
      "  from ipykernel import kernelapp as app\n",
      "/Users/devin/anaconda/envs/py3/lib/python3.4/site-packages/ipykernel/__main__.py:3: SettingWithCopyWarning: \n",
      "A value is trying to be set on a copy of a slice from a DataFrame.\n",
      "Try using .loc[row_indexer,col_indexer] = value instead\n",
      "\n",
      "See the caveats in the documentation: http://pandas.pydata.org/pandas-docs/stable/indexing.html#indexing-view-versus-copy\n",
      "  app.launch_new_instance()\n",
      "/Users/devin/anaconda/envs/py3/lib/python3.4/site-packages/ipykernel/__main__.py:4: SettingWithCopyWarning: \n",
      "A value is trying to be set on a copy of a slice from a DataFrame.\n",
      "Try using .loc[row_indexer,col_indexer] = value instead\n",
      "\n",
      "See the caveats in the documentation: http://pandas.pydata.org/pandas-docs/stable/indexing.html#indexing-view-versus-copy\n"
     ]
    },
    {
     "data": {
      "text/html": [
       "<div>\n",
       "<table border=\"1\" class=\"dataframe\">\n",
       "  <thead>\n",
       "    <tr style=\"text-align: right;\">\n",
       "      <th></th>\n",
       "      <th>created_at</th>\n",
       "      <th>forks_count</th>\n",
       "      <th>full_name</th>\n",
       "      <th>language</th>\n",
       "      <th>name</th>\n",
       "      <th>open_issues_count</th>\n",
       "      <th>owner</th>\n",
       "      <th>pushed_at</th>\n",
       "      <th>size</th>\n",
       "      <th>stargazers_count</th>\n",
       "      <th>updated_at</th>\n",
       "      <th>watchers_count</th>\n",
       "    </tr>\n",
       "  </thead>\n",
       "  <tbody>\n",
       "    <tr>\n",
       "      <th>0</th>\n",
       "      <td>2015-02-27 18:56:28</td>\n",
       "      <td>53</td>\n",
       "      <td>fisshy/react-scroll</td>\n",
       "      <td>JavaScript</td>\n",
       "      <td>react-scroll</td>\n",
       "      <td>12</td>\n",
       "      <td>fisshy</td>\n",
       "      <td>2016-02-16 07:23:19</td>\n",
       "      <td>117</td>\n",
       "      <td>137</td>\n",
       "      <td>2016-02-16 09:44:26</td>\n",
       "      <td>137</td>\n",
       "    </tr>\n",
       "    <tr>\n",
       "      <th>1</th>\n",
       "      <td>2014-10-29 00:54:54</td>\n",
       "      <td>15</td>\n",
       "      <td>firebase/firebase-queue</td>\n",
       "      <td>JavaScript</td>\n",
       "      <td>firebase-queue</td>\n",
       "      <td>10</td>\n",
       "      <td>firebase</td>\n",
       "      <td>2016-01-13 00:56:52</td>\n",
       "      <td>204</td>\n",
       "      <td>182</td>\n",
       "      <td>2016-02-16 04:04:31</td>\n",
       "      <td>182</td>\n",
       "    </tr>\n",
       "    <tr>\n",
       "      <th>2</th>\n",
       "      <td>2015-08-06 12:26:57</td>\n",
       "      <td>22</td>\n",
       "      <td>EverythingMe/easy-content-providers</td>\n",
       "      <td>Java</td>\n",
       "      <td>easy-content-providers</td>\n",
       "      <td>1</td>\n",
       "      <td>EverythingMe</td>\n",
       "      <td>2015-08-21 20:17:03</td>\n",
       "      <td>3237</td>\n",
       "      <td>102</td>\n",
       "      <td>2016-02-16 04:04:31</td>\n",
       "      <td>102</td>\n",
       "    </tr>\n",
       "    <tr>\n",
       "      <th>3</th>\n",
       "      <td>2013-12-24 02:40:05</td>\n",
       "      <td>148</td>\n",
       "      <td>ethereum/pyethereum</td>\n",
       "      <td>Python</td>\n",
       "      <td>pyethereum</td>\n",
       "      <td>53</td>\n",
       "      <td>ethereum</td>\n",
       "      <td>2016-02-15 23:38:15</td>\n",
       "      <td>5543</td>\n",
       "      <td>420</td>\n",
       "      <td>2016-02-16 11:18:23</td>\n",
       "      <td>420</td>\n",
       "    </tr>\n",
       "    <tr>\n",
       "      <th>4</th>\n",
       "      <td>2013-06-21 19:44:59</td>\n",
       "      <td>30</td>\n",
       "      <td>erikrose/peep</td>\n",
       "      <td>Python</td>\n",
       "      <td>peep</td>\n",
       "      <td>19</td>\n",
       "      <td>erikrose</td>\n",
       "      <td>2016-02-12 11:56:01</td>\n",
       "      <td>383</td>\n",
       "      <td>230</td>\n",
       "      <td>2016-02-16 10:59:07</td>\n",
       "      <td>230</td>\n",
       "    </tr>\n",
       "  </tbody>\n",
       "</table>\n",
       "</div>"
      ],
      "text/plain": [
       "           created_at  forks_count                            full_name  \\\n",
       "0 2015-02-27 18:56:28           53                  fisshy/react-scroll   \n",
       "1 2014-10-29 00:54:54           15              firebase/firebase-queue   \n",
       "2 2015-08-06 12:26:57           22  EverythingMe/easy-content-providers   \n",
       "3 2013-12-24 02:40:05          148                  ethereum/pyethereum   \n",
       "4 2013-06-21 19:44:59           30                        erikrose/peep   \n",
       "\n",
       "     language                    name  open_issues_count         owner  \\\n",
       "0  JavaScript            react-scroll                 12        fisshy   \n",
       "1  JavaScript          firebase-queue                 10      firebase   \n",
       "2        Java  easy-content-providers                  1  EverythingMe   \n",
       "3      Python              pyethereum                 53      ethereum   \n",
       "4      Python                    peep                 19      erikrose   \n",
       "\n",
       "            pushed_at  size  stargazers_count          updated_at  \\\n",
       "0 2016-02-16 07:23:19   117               137 2016-02-16 09:44:26   \n",
       "1 2016-01-13 00:56:52   204               182 2016-02-16 04:04:31   \n",
       "2 2015-08-21 20:17:03  3237               102 2016-02-16 04:04:31   \n",
       "3 2016-02-15 23:38:15  5543               420 2016-02-16 11:18:23   \n",
       "4 2016-02-12 11:56:01   383               230 2016-02-16 10:59:07   \n",
       "\n",
       "   watchers_count  \n",
       "0             137  \n",
       "1             182  \n",
       "2             102  \n",
       "3             420  \n",
       "4             230  "
      ]
     },
     "execution_count": 111,
     "metadata": {},
     "output_type": "execute_result"
    }
   ],
   "source": [
    "# gives a false positive warning\n",
    "analysis_df['created_at'] = pd.to_datetime(analysis_df['created_at'])\n",
    "analysis_df['updated_at'] = pd.to_datetime(analysis_df['updated_at'])\n",
    "analysis_df['pushed_at'] = pd.to_datetime(analysis_df['pushed_at'])\n",
    "\n",
    "analysis_df.head()"
   ]
  },
  {
   "cell_type": "code",
   "execution_count": 85,
   "metadata": {
    "collapsed": false
   },
   "outputs": [],
   "source": [
    "lang_groups = analysis_df.drop_duplicates(subset=\"full_name\").groupby('language').size().sort_values(ascending=False)"
   ]
  },
  {
   "cell_type": "code",
   "execution_count": 95,
   "metadata": {
    "collapsed": false
   },
   "outputs": [
    {
     "data": {
      "text/plain": [
       "language\n",
       "JavaScript          40855\n",
       "Ruby                22048\n",
       "Python              15675\n",
       "Java                12223\n",
       "PHP                  9878\n",
       "Objective-C          7710\n",
       "C                    7546\n",
       "C++                  6117\n",
       "CSS                  5449\n",
       "HTML                 4854\n",
       "Go                   4852\n",
       "Shell                4309\n",
       "C#                   2739\n",
       "CoffeeScript         1935\n",
       "Swift                1916\n",
       "Perl                 1899\n",
       "VimL                 1748\n",
       "Clojure              1544\n",
       "Scala                1422\n",
       "Haskell              1390\n",
       "Emacs Lisp            961\n",
       "Erlang                747\n",
       "R                     711\n",
       "Rust                  663\n",
       "Lua                   635\n",
       "OCaml                 417\n",
       "TeX                   378\n",
       "Elixir                335\n",
       "Makefile              313\n",
       "ActionScript          288\n",
       "TypeScript            252\n",
       "Groovy                227\n",
       "Common Lisp           219\n",
       "Puppet                181\n",
       "Matlab                177\n",
       "Assembly              177\n",
       "D                     176\n",
       "Scheme                137\n",
       "Jupyter Notebook      127\n",
       "Arduino               124\n",
       "PowerShell            122\n",
       "Apex                  117\n",
       "Dart                  103\n",
       "dtype: int64"
      ]
     },
     "execution_count": 95,
     "metadata": {},
     "output_type": "execute_result"
    }
   ],
   "source": [
    "lang_groups[lang_groups > 100]"
   ]
  },
  {
   "cell_type": "markdown",
   "metadata": {},
   "source": [
    "### which repositories have been updated this year"
   ]
  },
  {
   "cell_type": "code",
   "execution_count": 132,
   "metadata": {
    "collapsed": true
   },
   "outputs": [],
   "source": [
    "pushed_at_2016 = analysis_df[analysis_df['pushed_at'] > pd.to_datetime('2016-01-01')]\n",
    "pushed_at_last_three_months = analysis_df[analysis_df['pushed_at'] > pd.to_datetime('2015-11-01')]\n",
    "\n",
    "updated_2016 = analysis_df[analysis_df['updated_at'] > pd.to_datetime('2016-01-01')]\n",
    "\n",
    "updated_last_six_months = analysis_df[analysis_df['updated_at'] > pd.to_datetime('2015-07-01')]"
   ]
  },
  {
   "cell_type": "code",
   "execution_count": 133,
   "metadata": {
    "collapsed": false
   },
   "outputs": [
    {
     "name": "stdout",
     "output_type": "stream",
     "text": [
      "55323\n",
      "74727\n",
      "107773\n",
      "201506\n"
     ]
    }
   ],
   "source": [
    "print(len(pushed_at_2016))\n",
    "print(len(pushed_at_last_three_months))\n",
    "print(len(updated_2016))\n",
    "print(len(updated_last_six_months))"
   ]
  },
  {
   "cell_type": "code",
   "execution_count": 136,
   "metadata": {
    "collapsed": false
   },
   "outputs": [],
   "source": [
    "pushed_at_2016.to_csv('output/pushed-at-2016.csv')"
   ]
  }
 ],
 "metadata": {
  "kernelspec": {
   "display_name": "Python 3",
   "language": "python",
   "name": "python3"
  },
  "language_info": {
   "codemirror_mode": {
    "name": "ipython",
    "version": 3
   },
   "file_extension": ".py",
   "mimetype": "text/x-python",
   "name": "python",
   "nbconvert_exporter": "python",
   "pygments_lexer": "ipython3",
   "version": "3.4.4"
  }
 },
 "nbformat": 4,
 "nbformat_minor": 0
}
